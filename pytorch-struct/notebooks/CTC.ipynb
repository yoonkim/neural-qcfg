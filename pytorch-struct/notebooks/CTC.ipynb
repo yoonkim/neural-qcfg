{
  "nbformat": 4,
  "nbformat_minor": 0,
  "metadata": {
    "colab": {
      "name": "CTC.ipynb",
      "provenance": [],
      "collapsed_sections": []
    },
    "kernelspec": {
      "name": "python3",
      "display_name": "Python 3"
    },
    "accelerator": "GPU"
  },
  "cells": [
    {
      "cell_type": "code",
      "metadata": {
        "id": "1A6gJZcOVq-h",
        "colab_type": "code",
        "outputId": "f7031d2b-a78b-425b-dacf-a96d1362f1fc",
        "colab": {
          "base_uri": "https://localhost:8080/",
          "height": 35
        }
      },
      "source": [
        "!pip install -qU git+https://github.com/harvardnlp/pytorch-struct@fixalign\n",
        "!pip install -qU git+https://github.com/harvardnlp/genbmm\n",
        "!pip install -q matplotlib"
      ],
      "execution_count": 0,
      "outputs": [
        {
          "output_type": "stream",
          "text": [
            "  Building wheel for torch-struct (setup.py) ... \u001b[?25l\u001b[?25hdone\n"
          ],
          "name": "stdout"
        }
      ]
    },
    {
      "cell_type": "code",
      "metadata": {
        "id": "r070BEdwVzHs",
        "colab_type": "code",
        "colab": {}
      },
      "source": [
        "import torch\n",
        "import torch_struct\n",
        "import matplotlib.pyplot as plt"
      ],
      "execution_count": 0,
      "outputs": []
    },
    {
      "cell_type": "code",
      "metadata": {
        "id": "zxRC_exrbTR4",
        "colab_type": "code",
        "colab": {}
      },
      "source": [
        "# Character Vocab\n",
        "vocab = [\"a\", \"b\", \"c\", \"d\", \"e\", \"_\"]\n",
        "v_dict = { a:i for i, a in enumerate(vocab)}\n",
        "L = len(vocab)\n",
        "\n",
        "# Char sequence\n",
        "letters = \"a _ b _ c _ d _ e\"\n",
        "t = len(letters.split())\n",
        "\n",
        "# Frame sequence\n",
        "frames = [\"a\", \"a\", \"a\", \"_\", \"b\", \"b\", \"c\", \"c\", \"c\", \"c\", \"_\", \"_\", \"d\", \"e\"]\n",
        "\n",
        "# Constants\n",
        "T, B = len(frames), 5\n",
        "D1, MATCH, D2 = 0, 1, 2\n",
        "\n",
        "def show(m):\n",
        "    plt.yticks(torch.arange(len(letters.split())), letters.split())\n",
        "    plt.xticks(torch.arange(T), [str(frames[x.item()]) for x in torch.arange(T)])\n",
        "    plt.imshow(m.cpu().detach())"
      ],
      "execution_count": 0,
      "outputs": []
    },
    {
      "cell_type": "code",
      "metadata": {
        "id": "qXQ1s1HvV2Nq",
        "colab_type": "code",
        "colab": {}
      },
      "source": [
        "# Gold alignment. \n",
        "gold = torch.zeros(B, t).long()\n",
        "for i, l in enumerate(letters.split()):\n",
        "    gold[:, i] = v_dict[l]\n",
        "gold = gold[:, None, :].expand(B, T, t)\n",
        "\n",
        "# Inputs (boost true frames a bit)\n",
        "logits = torch.rand(B, T, L)\n",
        "for i in range(T):\n",
        "    logits[:, i, v_dict[frames[i]]] += 1 "
      ],
      "execution_count": 0,
      "outputs": []
    },
    {
      "cell_type": "code",
      "metadata": {
        "id": "il4pW6M9YOKP",
        "colab_type": "code",
        "colab": {}
      },
      "source": [
        "# Construct the alignment problem from CTC\n",
        "\n",
        "# Log-Potentials\n",
        "log_potentials = torch.zeros(B, T, t, 3)\n",
        "\n",
        "# Match gold to logits. \n",
        "match = torch.gather(logits, 2, gold)\n",
        "\n",
        "# CTC Rules:\n",
        "\n",
        "# Never allowed to fully skip regular characters (little t)\n",
        "log_potentials[:, :, ::2,  D2] = -1e5\n",
        "\n",
        "# Free to skip _ characters (little t)\n",
        "log_potentials[:, :, 1::2, D2] = 0\n",
        "\n",
        "# First match with character is the logit. \n",
        "log_potentials[:, :, :, MATCH] = match\n",
        "\n",
        "# Additional match with character is the logit.\n",
        "log_potentials[:, :, :, D1] = match\n",
        "\n",
        "# (This might be slightly off)\n",
        "\n",
        "log_potentials = log_potentials.transpose(1, 2).cuda()"
      ],
      "execution_count": 0,
      "outputs": []
    },
    {
      "cell_type": "code",
      "metadata": {
        "id": "Hz5I8cnLfpHE",
        "colab_type": "code",
        "outputId": "560683d9-263c-4c82-acb5-2df1a0e1d4f0",
        "colab": {
          "base_uri": "https://localhost:8080/",
          "height": 263
        }
      },
      "source": [
        "# Show input scores\n",
        "show(match.transpose(1,2).exp()[0])"
      ],
      "execution_count": 0,
      "outputs": [
        {
          "output_type": "display_data",
          "data": {
            "image/png": "[encoded data removed]",
            "text/plain": [
              "<Figure size 432x288 with 1 Axes>"
            ]
          },
          "metadata": {
            "tags": []
          }
        }
      ]
    },
    {
      "cell_type": "code",
      "metadata": {
        "id": "xqDiA1mqfu6Q",
        "colab_type": "code",
        "outputId": "365d7416-b8ec-4dc8-8276-9d9eab0ffbf4",
        "colab": {
          "base_uri": "https://localhost:8080/",
          "height": 263
        }
      },
      "source": [
        "# Find best alignment\n",
        "dist = torch_struct.AlignmentCRF(log_potentials)\n",
        "show(dist.argmax[0])"
      ],
      "execution_count": 0,
      "outputs": [
        {
          "output_type": "display_data",
          "data": {
            "image/png": "[encoded data removed]",
            "text/plain": [
              "<Figure size 432x288 with 1 Axes>"
            ]
          },
          "metadata": {
            "tags": []
          }
        }
      ]
    },
    {
      "cell_type": "code",
      "metadata": {
        "id": "wdMZ89-ehpxq",
        "colab_type": "code",
        "outputId": "277c5d37-e013-4f66-b350-33447562d448",
        "colab": {
          "base_uri": "https://localhost:8080/",
          "height": 281
        }
      },
      "source": [
        "# Find marginals (see uncertainty from randomness)\n",
        "show(dist.marginals[0])"
      ],
      "execution_count": 0,
      "outputs": [
        {
          "output_type": "stream",
          "text": [
            "Clipping input data to the valid range for imshow with RGB data ([0..1] for floats or [0..255] for integers).\n"
          ],
          "name": "stderr"
        },
        {
          "output_type": "display_data",
          "data": {
            "image/png": "[encoded data removed]",
            "text/plain": [
              "<Figure size 432x288 with 1 Axes>"
            ]
          },
          "metadata": {
            "tags": []
          }
        }
      ]
    },
    {
      "cell_type": "code",
      "metadata": {
        "id": "sWLCBtu1hr5S",
        "colab_type": "code",
        "outputId": "9bd8cf58-f7e6-438b-b8ab-d33f381c2b15",
        "colab": {
          "base_uri": "https://localhost:8080/",
          "height": 53
        }
      },
      "source": [
        "# Print the log sum exp of the data (for training)\n",
        "print(dist.partition)"
      ],
      "execution_count": 0,
      "outputs": [
        {
          "output_type": "stream",
          "text": [
            "tensor([28.5271, 28.8374, 28.3810, 27.0438, 26.3049], device='cuda:0',\n",
            "       grad_fn=<SqueezeBackward1>)\n"
          ],
          "name": "stdout"
        }
      ]
    }
  ]
}