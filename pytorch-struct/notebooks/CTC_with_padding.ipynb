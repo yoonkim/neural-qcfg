{
  "nbformat": 4,
  "nbformat_minor": 0,
  "metadata": {
    "colab": {
      "name": "CTC.ipynb",
      "provenance": [],
      "collapsed_sections": [],
      "include_colab_link": true
    },
    "kernelspec": {
      "name": "python3",
      "display_name": "Python 3"
    },
    "accelerator": "GPU"
  },
  "cells": [
    {
      "cell_type": "markdown",
      "metadata": {
        "id": "view-in-github",
        "colab_type": "text"
      },
      "source": [
        "<a href=\"https://colab.research.google.com/github/harvardnlp/pytorch-struct/blob/master/notebooks/CTC_with_padding.ipynb\" target=\"_parent\"><img src=\"https://colab.research.google.com/assets/colab-badge.svg\" alt=\"Open In Colab\"/></a>"
      ]
    },
    {
      "cell_type": "code",
      "metadata": {
        "id": "1A6gJZcOVq-h",
        "colab_type": "code",
        "outputId": "0467398c-3ac6-437a-8a42-cff49d155d2f",
        "colab": {
          "base_uri": "https://localhost:8080/",
          "height": 53
        }
      },
      "source": [
        "!pip install -qU git+https://github.com/harvardnlp/pytorch-struct\n",
        "!pip install -qU git+https://github.com/harvardnlp/genbmm\n",
        "!pip install -q matplotlib"
      ],
      "execution_count": 0,
      "outputs": [
        {
          "output_type": "stream",
          "text": [
            "  Building wheel for torch-struct (setup.py) ... \u001b[?25l\u001b[?25hdone\n",
            "  Building wheel for genbmm (setup.py) ... \u001b[?25l\u001b[?25hdone\n"
          ],
          "name": "stdout"
        }
      ]
    },
    {
      "cell_type": "code",
      "metadata": {
        "id": "r070BEdwVzHs",
        "colab_type": "code",
        "colab": {}
      },
      "source": [
        "import torch\n",
        "import torch_struct\n",
        "import matplotlib.pyplot as plt"
      ],
      "execution_count": 0,
      "outputs": []
    },
    {
      "cell_type": "code",
      "metadata": {
        "id": "zxRC_exrbTR4",
        "colab_type": "code",
        "colab": {}
      },
      "source": [
        "# Character Vocab, P is a padding token\n",
        "vocab = [\"a\", \"b\", \"c\", \"d\", \"e\", \"_\", \"P\"]\n",
        "v_dict = { a:i for i, a in enumerate(vocab)}\n",
        "L = len(vocab)\n",
        "\n",
        "# Char sequence\n",
        "letters = [[\"a\", \"_\", \"b\", \"_\", \"c\", \"_\", \"d\", \"_\", \"e\"], \n",
        "           [\"a\", \"_\", \"b\", \"_\", \"c\", \"P\", \"P\", \"P\", \"P\"]]\n",
        "#letters = [[\"a\", \"_\", \"b\", \"_\", \"c\"]]\n",
        "\n",
        "t = len(letters[0])\n",
        "\n",
        "# Padding\n",
        "\n",
        "# Frame sequence\n",
        "frames = [[\"a\", \"a\", \"a\", \"_\", \"b\", \"b\", \"c\", \"c\", \"c\", \"c\", \"_\", \"_\", \"d\", \"e\"], \n",
        "          [\"a\", \"a\", \"a\", \"a\", \"a\", \"_\", \"b\", \"b\", \"c\", \"c\", \"c\", \"c\", \"P\", \"P\"]] \n",
        "#frames = [[\"a\", \"a\", \"a\", \"a\", \"a\", \"_\", \"b\", \"b\", \"c\", \"c\", \"c\", \"c\"]] \n",
        "\n",
        "# Constants\n",
        "T, B = len(frames[0]), len(frames)\n",
        "D1, MATCH, D2 = 0, 1, 2\n",
        "\n",
        "batch_lengths = [(t, T), (t-4, T-2)]\n",
        "#batch_lengths = [(t, T)]\n",
        "\n",
        "def show(m, ex):\n",
        "    plt.yticks(torch.arange(len(letters[ex])), letters[ex])\n",
        "    plt.xticks(torch.arange(T), [str(frames[ex][x.item()]) for x in torch.arange(T)])\n",
        "    plt.imshow(m[ex].cpu().detach())"
      ],
      "execution_count": 0,
      "outputs": []
    },
    {
      "cell_type": "code",
      "metadata": {
        "id": "rDtLyNKPa1N0",
        "colab_type": "code",
        "colab": {}
      },
      "source": [
        "# Gold alignment. \n",
        "gold = torch.zeros(B, t).long()\n",
        "for b in range(B):\n",
        "    for i, l in enumerate(letters[0]):\n",
        "        gold[b, i] = v_dict[l]\n",
        "gold = gold[:, None, :].expand(B, T, t)\n",
        "\n",
        "# Inputs (boost true frames a bit)\n",
        "logits = torch.zeros(B, T, L)\n",
        "for b in range(B):\n",
        "    for i in range(T):\n",
        "        logits[b, i, v_dict[frames[b][i]]] += 1 "
      ],
      "execution_count": 0,
      "outputs": []
    },
    {
      "cell_type": "code",
      "metadata": {
        "id": "il4pW6M9YOKP",
        "colab_type": "code",
        "colab": {}
      },
      "source": [
        "# Construct the alignment problem from CTC\n",
        "\n",
        "# Log-Potentials\n",
        "log_potentials = torch.zeros(B, T, t, 3).fill_(-1e5)\n",
        "\n",
        "# Match gold to logits. \n",
        "match = torch.gather(logits, 2, gold)\n",
        "\n",
        "# CTC Rules:\n",
        "for b, (lb, la)  in zip(range(B), batch_lengths):\n",
        "    # la and lb are the sizes of the two (without padding)\n",
        "\n",
        "    # Never allowed to fully skip regular characters (little t)\n",
        "    log_potentials[b, :la, :lb:2,  D2] = -1e5\n",
        "\n",
        "    # Free to skip _ characters (little t)\n",
        "    log_potentials[b, :la, 1:lb:2, D2] = 0\n",
        "\n",
        "    # First match with character is the logit. \n",
        "    log_potentials[b, :la, :lb, MATCH] = match[b, :la, :lb]\n",
        "\n",
        "    # Additional match with character is the logit.\n",
        "    log_potentials[b, :la, :lb, D1] = match[b, :la, :lb]\n",
        "\n",
        "    # Match padding in an L shape\n",
        "    log_potentials[b, la:, lb-1, D1] = 0\n",
        "    log_potentials[b, -1, lb:, D2] = 0\n",
        "\n",
        "\n",
        "log_potentials = log_potentials.transpose(1, 2).cuda()"
      ],
      "execution_count": 0,
      "outputs": []
    },
    {
      "cell_type": "code",
      "metadata": {
        "id": "Hz5I8cnLfpHE",
        "colab_type": "code",
        "outputId": "cd673207-eb68-4964-be96-3886800ade75",
        "colab": {
          "base_uri": "https://localhost:8080/",
          "height": 263
        }
      },
      "source": [
        "# Show input scores\n",
        "show(match.transpose(1,2).exp(), 1)"
      ],
      "execution_count": 0,
      "outputs": [
        {
          "output_type": "display_data",
          "data": {
            "image/png": "[encoded data removed]",
            "text/plain": [
              "<Figure size 432x288 with 1 Axes>"
            ]
          },
          "metadata": {
            "tags": []
          }
        }
      ]
    },
    {
      "cell_type": "code",
      "metadata": {
        "id": "psn-rlomc3CY",
        "colab_type": "code",
        "outputId": "c3c01c84-dd3f-4d87-f7a4-3a1292080b13",
        "colab": {
          "base_uri": "https://localhost:8080/",
          "height": 263
        }
      },
      "source": [
        "show(log_potentials[:, :, :, 1].exp(), 1)"
      ],
      "execution_count": 0,
      "outputs": [
        {
          "output_type": "display_data",
          "data": {
            "image/png": "[encoded data removed]",
            "text/plain": [
              "<Figure size 432x288 with 1 Axes>"
            ]
          },
          "metadata": {
            "tags": []
          }
        }
      ]
    },
    {
      "cell_type": "code",
      "metadata": {
        "id": "xqDiA1mqfu6Q",
        "colab_type": "code",
        "outputId": "e2c16154-1003-40c4-b3b0-2be9b79d16ee",
        "colab": {
          "base_uri": "https://localhost:8080/",
          "height": 263
        }
      },
      "source": [
        "# Find best alignment\n",
        "dist = torch_struct.AlignmentCRF(log_potentials)\n",
        "show(dist.argmax, 0)\n"
      ],
      "execution_count": 0,
      "outputs": [
        {
          "output_type": "display_data",
          "data": {
            "image/png": "[encoded data removed]",
            "text/plain": [
              "<Figure size 432x288 with 1 Axes>"
            ]
          },
          "metadata": {
            "tags": []
          }
        }
      ]
    },
    {
      "cell_type": "code",
      "metadata": {
        "id": "RdOaPe6rfU5k",
        "colab_type": "code",
        "outputId": "2db5d26f-7bff-4d48-c08a-cf701fd31451",
        "colab": {
          "base_uri": "https://localhost:8080/",
          "height": 263
        }
      },
      "source": [
        "show(dist.argmax, 1)"
      ],
      "execution_count": 0,
      "outputs": [
        {
          "output_type": "display_data",
          "data": {
            "image/png": "[encoded data removed]",
            "text/plain": [
              "<Figure size 432x288 with 1 Axes>"
            ]
          },
          "metadata": {
            "tags": []
          }
        }
      ]
    },
    {
      "cell_type": "code",
      "metadata": {
        "id": "wdMZ89-ehpxq",
        "colab_type": "code",
        "outputId": "2d836e19-2e0f-405d-a79e-58bc548622f9",
        "colab": {
          "base_uri": "https://localhost:8080/",
          "height": 263
        }
      },
      "source": [
        "# Find marginals (see uncertainty from randomness)\n",
        "show(dist.marginals, 0)"
      ],
      "execution_count": 0,
      "outputs": [
        {
          "output_type": "display_data",
          "data": {
            "image/png": "[encoded data removed]",
            "text/plain": [
              "<Figure size 432x288 with 1 Axes>"
            ]
          },
          "metadata": {
            "tags": []
          }
        }
      ]
    },
    {
      "cell_type": "code",
      "metadata": {
        "id": "b2rayj96fpnF",
        "colab_type": "code",
        "outputId": "51966a09-b8ba-441d-edcc-d6cb69df6e9f",
        "colab": {
          "base_uri": "https://localhost:8080/",
          "height": 263
        }
      },
      "source": [
        "# No uncertainty for the padding.\n",
        "show(dist.marginals, 1)"
      ],
      "execution_count": 0,
      "outputs": [
        {
          "output_type": "display_data",
          "data": {
            "image/png": "[encoded data removed]",
            "text/plain": [
              "<Figure size 432x288 with 1 Axes>"
            ]
          },
          "metadata": {
            "tags": []
          }
        }
      ]
    },
    {
      "cell_type": "code",
      "metadata": {
        "id": "sWLCBtu1hr5S",
        "colab_type": "code",
        "outputId": "bd0fc5ec-3da5-43cf-b42b-0494ea5983ea",
        "colab": {
          "base_uri": "https://localhost:8080/",
          "height": 35
        }
      },
      "source": [
        "# Print the log sum exp of the data (for training)\n",
        "print(dist.partition)"
      ],
      "execution_count": 0,
      "outputs": [
        {
          "output_type": "stream",
          "text": [
            "tensor([19.6766, 15.4172], device='cuda:0', grad_fn=<SqueezeBackward1>)\n"
          ],
          "name": "stdout"
        }
      ]
    }
  ]
}